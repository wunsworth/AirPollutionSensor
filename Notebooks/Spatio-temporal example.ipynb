{
 "cells": [
  {
   "cell_type": "markdown",
   "id": "1126a52a",
   "metadata": {},
   "source": [
    "# Spatio-temporal example"
   ]
  },
  {
   "cell_type": "code",
   "execution_count": 19,
   "id": "da8124c9",
   "metadata": {},
   "outputs": [],
   "source": [
    "import itertools\n",
    "import numpy as np\n",
    "import matplotlib.pyplot as plt\n",
    "import tensorflow as tf\n",
    "import tensorflow_probability as tfp\n",
    "from tensorflow_probability import distributions as tfd\n",
    "import gpflow\n",
    "\n",
    "from gpflow import default_float\n",
    "from gpflow.ci_utils import ci_niter\n",
    "\n",
    "gpflow.config.set_default_float(np.float64)\n",
    "gpflow.config.set_default_jitter(1e-4)\n",
    "gpflow.config.set_default_summary_fmt(\"notebook\")\n",
    "# convert to float64 for tfp to play nicely with gpflow in 64\n",
    "f64 = gpflow.utilities.to_default_float\n",
    "\n",
    "f64 = gpflow.utilities.to_default_float\n",
    "\n",
    "np.random.seed(1000)"
   ]
  },
  {
   "cell_type": "code",
   "execution_count": 26,
   "id": "1af2f440",
   "metadata": {},
   "outputs": [
    {
     "data": {
      "text/plain": [
       "<matplotlib.collections.PathCollection at 0x1f1d279d0>"
      ]
     },
     "execution_count": 26,
     "metadata": {},
     "output_type": "execute_result"
    },
    {
     "data": {
      "image/png": "[encoded data removed]",
      "text/plain": [
       "<Figure size 432x288 with 1 Axes>"
      ]
     },
     "metadata": {
      "needs_background": "light"
     },
     "output_type": "display_data"
    }
   ],
   "source": [
    "sensor_lat = np.random.uniform(size = (20, 1), )\n",
    "sensor_long = np.random.uniform(size = (20, 1))\n",
    "plt.scatter(sensor_lat, sensor_long)"
   ]
  },
  {
   "cell_type": "code",
   "execution_count": 29,
   "id": "39491529",
   "metadata": {},
   "outputs": [
    {
     "data": {
      "text/plain": [
       "array([[0.1309211 , 0.34540489],\n",
       "       [0.14011599, 0.50857829],\n",
       "       [0.20056862, 0.24750605],\n",
       "       [0.72982855, 0.98759226],\n",
       "       [0.43195895, 0.40893494],\n",
       "       [0.69853328, 0.0861166 ],\n",
       "       [0.14155456, 0.98114044],\n",
       "       [0.22393746, 0.89662233],\n",
       "       [0.82282753, 0.53319582],\n",
       "       [0.00381209, 0.03514239],\n",
       "       [0.22642668, 0.83771878],\n",
       "       [0.83756058, 0.90390791],\n",
       "       [0.6797116 , 0.63034084],\n",
       "       [0.27394295, 0.28100079],\n",
       "       [0.82141707, 0.93270378],\n",
       "       [0.17053519, 0.01791405],\n",
       "       [0.54227727, 0.32063769],\n",
       "       [0.59911175, 0.35118622],\n",
       "       [0.97375601, 0.84920097],\n",
       "       [0.67379593, 0.0043367 ]])"
      ]
     },
     "execution_count": 29,
     "metadata": {},
     "output_type": "execute_result"
    }
   ],
   "source": [
    "sensor_locs = np.concatenate((sensor_lat, sensor_long), 1)\n",
    "sensor_locs"
   ]
  },
  {
   "cell_type": "code",
   "execution_count": 34,
   "id": "ec2d6a96",
   "metadata": {},
   "outputs": [
    {
     "data": {
      "text/plain": [
       "array([  1.,   2.,   3.,   4.,   5.,   6.,   7.,   8.,   9.,  10.,  11.,\n",
       "        12.,  13.,  14.,  15.,  16.,  17.,  18.,  19.,  20.,  21.,  22.,\n",
       "        23.,  24.,  25.,  26.,  27.,  28.,  29.,  30.,  31.,  32.,  33.,\n",
       "        34.,  35.,  36.,  37.,  38.,  39.,  40.,  41.,  42.,  43.,  44.,\n",
       "        45.,  46.,  47.,  48.,  49.,  50.,  51.,  52.,  53.,  54.,  55.,\n",
       "        56.,  57.,  58.,  59.,  60.,  61.,  62.,  63.,  64.,  65.,  66.,\n",
       "        67.,  68.,  69.,  70.,  71.,  72.,  73.,  74.,  75.,  76.,  77.,\n",
       "        78.,  79.,  80.,  81.,  82.,  83.,  84.,  85.,  86.,  87.,  88.,\n",
       "        89.,  90.,  91.,  92.,  93.,  94.,  95.,  96.,  97.,  98.,  99.,\n",
       "       100., 101., 102., 103., 104., 105., 106., 107., 108., 109., 110.,\n",
       "       111., 112., 113., 114., 115., 116., 117., 118., 119., 120., 121.,\n",
       "       122., 123., 124., 125., 126., 127., 128., 129., 130., 131., 132.,\n",
       "       133., 134., 135., 136., 137., 138., 139., 140., 141., 142., 143.,\n",
       "       144., 145., 146., 147., 148., 149., 150., 151., 152., 153., 154.,\n",
       "       155., 156., 157., 158., 159., 160., 161., 162., 163., 164., 165.,\n",
       "       166., 167., 168., 169., 170., 171., 172., 173., 174., 175., 176.,\n",
       "       177., 178., 179., 180., 181., 182., 183., 184., 185., 186., 187.,\n",
       "       188., 189., 190., 191., 192., 193., 194., 195., 196., 197., 198.,\n",
       "       199., 200.])"
      ]
     },
     "execution_count": 34,
     "metadata": {},
     "output_type": "execute_result"
    }
   ],
   "source": [
    "time = np.linspace(1, 200, 200)\n",
    "time"
   ]
  },
  {
   "cell_type": "code",
   "execution_count": 35,
   "id": "126c4b03",
   "metadata": {},
   "outputs": [],
   "source": [
    "def f(X):\n",
    "    '''Takes 3 dimensional X array and returns Y.\n",
    "    \n",
    "    Let the dimensions of X be latitude, longitude and time respectively'''\n",
    "    f = 1/(np.sqrt((X[:,0]-0.25)**2 + (X[:,1]-0.5)**2) + 1) * (np.sin(X[:,2])+1)\n",
    "    return f"
   ]
  },
  {
   "cell_type": "code",
   "execution_count": null,
   "id": "13dd1c64",
   "metadata": {},
   "outputs": [],
   "source": [
    "X = "
   ]
  }
 ],
 "metadata": {
  "kernelspec": {
   "display_name": "Python 3",
   "language": "python",
   "name": "python3"
  },
  "language_info": {
   "codemirror_mode": {
    "name": "ipython",
    "version": 3
   },
   "file_extension": ".py",
   "mimetype": "text/x-python",
   "name": "python",
   "nbconvert_exporter": "python",
   "pygments_lexer": "ipython3",
   "version": "3.8.10"
  }
 },
 "nbformat": 4,
 "nbformat_minor": 5
}
