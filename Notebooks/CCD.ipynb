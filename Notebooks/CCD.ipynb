{
 "cells": [
  {
   "cell_type": "markdown",
   "id": "c974821f",
   "metadata": {},
   "source": [
    "# CCD"
   ]
  },
  {
   "cell_type": "code",
   "execution_count": null,
   "id": "e4261ee5",
   "metadata": {},
   "outputs": [],
   "source": [
    "def ccd(model, dist):\n",
    "    samples = [[] for param in model.trainable_parameters]\n",
    "    param_vals = []\n",
    "    multipliers = np.array([1/dist, 1, dist])\n",
    "    for param in model.trainable_parameters:\n",
    "        param_value = param.numpy()\n",
    "        new_vals = param_value * multipliers\n",
    "        new_vals = np.transpose(new_vals)\n",
    "        param_vals.append(list(new_vals))\n",
    "    for combination in itertools.product(*param_vals):\n",
    "        for i, param in enumerate(combination):\n",
    "            samples[i].append(param)\n",
    "    for i in range(len(samples)):\n",
    "        samples[i] = np.vstack(samples[i])\n",
    "    return samples"
   ]
  },
  {
   "cell_type": "code",
   "execution_count": null,
   "id": "3527361c",
   "metadata": {},
   "outputs": [],
   "source": [
    "parameter_samples_2 = ccd(model, 4)\n",
    "num_samples = parameter_samples_2[-1].shape[0]\n",
    "likelihoods = []\n",
    "for i in range(num_samples):\n",
    "    # Note that hmc_helper.current_state contains the unconstrained variables\n",
    "    for var, var_samples in zip(model.trainable_parameters, parameter_samples_2):\n",
    "        var.assign(var_samples[i].reshape(-1, 1))\n",
    "    likelihood = model.log_posterior_density()\n",
    "    likelihoods.append(likelihood)\n",
    "for i in range(num_samples):\n",
    "    for var, var_samples in zip(model.trainable_parameters, parameter_samples_2):\n",
    "        var.assign(var_samples[i])\n",
    "    weight = model.log_posterior_density()\n",
    "    f_batch = model.predict_f_samples(X_test, 5)\n",
    "    f_samples.append(f_batch)"
   ]
  }
 ],
 "metadata": {
  "kernelspec": {
   "display_name": "Python 3",
   "language": "python",
   "name": "python3"
  },
  "language_info": {
   "codemirror_mode": {
    "name": "ipython",
    "version": 3
   },
   "file_extension": ".py",
   "mimetype": "text/x-python",
   "name": "python",
   "nbconvert_exporter": "python",
   "pygments_lexer": "ipython3",
   "version": "3.8.10"
  }
 },
 "nbformat": 4,
 "nbformat_minor": 5
}
